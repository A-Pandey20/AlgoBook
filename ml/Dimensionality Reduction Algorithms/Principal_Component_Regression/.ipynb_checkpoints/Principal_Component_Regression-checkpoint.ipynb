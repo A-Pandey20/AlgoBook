{
 "cells": [
  {
   "cell_type": "markdown",
   "metadata": {},
   "source": [
    "# Principal Component Regression (PCR)\n",
    "\n",
    "This notebook implements **Principal Component Regression (PCR)** from scratch and helps to visualise the difference from the **Ordinary Least Square(OLS) Linear Regression**."
   ]
  },
  {
   "cell_type": "markdown",
   "metadata": {},
   "source": [
    "# Defining Principal Component Regression (PCR)\n",
    "\n",
    "Going by the definition, **Principal Component Regression (PCR)** is an algorithm for **reducing the multi-collinearity of datatsets.**"
   ]
  },
  {
   "cell_type": "markdown",
   "metadata": {},
   "source": [
    "# Problems with using multi-variate Linear Regression on these datasets\n",
    "\n",
    "### High Variance Issue\n",
    "\n",
    "In multi-variate Linear Regression, it may seem that the accuracy is very high on the training set and hence we have trained a brilliant model. But in reality, our model have overfit the training set and there is a high variance present.\n",
    "\n",
    "Such a model is likely to perform extremely worse on predictions with new examples and have a very low test accuracy."
   ]
  },
  {
   "cell_type": "markdown",
   "metadata": {},
   "source": [
    "# Benefits of using PCR on these datasets\n",
    "\n",
    "Applying **PCR** on such multi-collinear datasets has the following benefits:\n",
    "\n",
    "**PCR** adds a slight bias to the dataset and reduces the degree of overfitting.\n",
    "\n",
    "**PCR** is basically applying **PCA** to the dataset to obtain the **Principal Components (PCs)**. Then **Ordinary Least Square Linear Regression** is done on these obtain **Principal Components (PCs)**."
   ]
  },
  {
   "cell_type": "markdown",
   "metadata": {},
   "source": [
    "# Functioning of PCR\n",
    "\n",
    "In **PCR**, instead of regressing the dependent variable on the independant variables directly, the principal components of the independant variables are used.\n",
    "\n",
    "We apply **PCA** to the dataset to obtain the **Principal Components (PCs)**. **PCA** is a **Dimensionality Reduction Technique**. It combines two or more features to develop new features called **Principal Components (PCs)**. It combines features such that they can suite the target variable in a suitable way."
   ]
  },
  {
   "cell_type": "markdown",
   "metadata": {},
   "source": [
    "# PCA: Is it a Feature Selection Technique ?\n",
    "\n",
    "People often confuse **PCA** as a **Feature Selection Technique**.\n",
    "\n",
    "**PCA is not a Feature Selection Technique**. PCA doesn't select a set of fewer features from all those available in order to reduce the number of features. \n",
    "\n",
    "**PCA actually combines all the features to develop Principal Components (PCs), which are entirely different from the actual features.** \n",
    "\n",
    "These **Principal Components (PCs)** suite the target variable with high accuracy."
   ]
  },
  {
   "cell_type": "markdown",
   "metadata": {},
   "source": [
    "# Let's now implement PCR and OLS Linear Regression\n",
    "\n",
    "We will implement both **PCR** and **Ordinary Least Square(OLS) Limear Regression** on the given dataset and will perform a quantitative comparision."
   ]
  },
  {
   "cell_type": "markdown",
   "metadata": {},
   "source": [
    "## Import libraries\n",
    "\n",
    "First of all we need to import all the necessary libraries. We will be using the following libraries:\n",
    "\n",
    "    **numpy**:"
   ]
  }
 ],
 "metadata": {
  "kernelspec": {
   "display_name": "Python 3",
   "language": "python",
   "name": "python3"
  },
  "language_info": {
   "codemirror_mode": {
    "name": "ipython",
    "version": 3
   },
   "file_extension": ".py",
   "mimetype": "text/x-python",
   "name": "python",
   "nbconvert_exporter": "python",
   "pygments_lexer": "ipython3",
   "version": "3.7.6"
  }
 },
 "nbformat": 4,
 "nbformat_minor": 4
}
